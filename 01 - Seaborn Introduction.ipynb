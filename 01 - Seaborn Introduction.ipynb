{
 "cells": [
  {
   "cell_type": "markdown",
   "metadata": {},
   "source": [
    "Installing and getting started\n",
    "===========================================\n",
    "\n",
    "*  To install the released version of seaborn, you can use \\texttt{pip} (i.e. \\texttt{pip install seaborn}). \n",
    "*  It’s also possible to install the released version using conda (i.e. \\texttt{conda install seaborn}), although this may lag behind the version availible from PyPI.\n",
    "*  Alternatively, you can use pip to install the development version, with the command \\texttt{pip install}\n",
    "\n",
    "\n",
    "<pre><code>\n",
    "git+git://github.com/mwaskom/seaborn.git#egg=seaborn.\n",
    "</code></pre> \n"
   ]
  },
  {
   "cell_type": "markdown",
   "metadata": {
    "collapsed": true
   },
   "source": [
    "*  Another option would be to to clone the github repository and install with \\texttt{pip install }. from the source directory. *  Seaborn itself is pure Python, so installation should be reasonably straightforward.\n",
    "*  When using the development version, you may want to refer to the development docs. Note that these are not built automatically and may at times fall out of sync with the actual master branch on github.\n",
    "\n",
    "#### Dependencies\n",
    "\n",
    "*  Python 2.7 or 3.3+\n",
    "*  numpy\n",
    "*  scipy\n",
    "*  matplotlib\n",
    "*  pandas\n",
    "\n",
    "*  statsmodels (Recommended)\n",
    "\n",
    "\n",
    "\n",
    "\n",
    "\n",
    "\n",
    "\n",
    "\n",
    "*  The pip installation script will attempt to download the mandatory dependencies if they do not exist at install-time.\n",
    "\t\n",
    "*  Using seaborn with the Anaconda distribution is recommended, as this makes it easy to manage the main dependencies, which otherwise can be difficult to install.\n",
    "\t\n",
    "\t%I attempt to keep seaborn importable and generally functional on the versions available through the stable Debian channels. There may be cases where some more advanced features only work with newer versions of these dependencies, although these should be relatively rare.\n",
    "\t\n",
    "*  There are also some known bugs on older versions of matplotlib, so you should in general try to use a modern version. For many use cases, though, older matplotlibs will work fine.\n",
    "\t\n",
    "*  Seaborn is tested on the most recent versions offered through conda.\n",
    "\t\n",
    "\n",
    "\n",
    "\n",
    "\n",
    "\n",
    "\n",
    "\n",
    "\n"
   ]
  },
  {
   "cell_type": "markdown",
   "metadata": {},
   "source": [
    "### Importing seaborn\n",
    "\n",
    "* Seaborn will apply its default style parameters to the global matplotlib style dictionary when you import it. This will change the look of all plots, including those created by using matplotlib functions directly. \n",
    "*  To avoid this behavior and use the default matplotlib aesthetics (along with any customization in your matplotlibrc), you can import the \\texttt{seaborn.apionly} namespace.\n",
    "\n",
    "*  Seaborn has several other pre-packaged styles along with high-level tools for managing them, so you should not limit yourself to the default aesthetics.\n",
    "\t\n",
    "\n",
    "\n",
    "By convention, seaborn is abbreviated to \\texttt{sns} on \\texttt{import}."
   ]
  },
  {
   "cell_type": "code",
   "execution_count": 2,
   "metadata": {
    "collapsed": true
   },
   "outputs": [],
   "source": [
    "import numpy as np\n",
    "import pandas as pd\n",
    "import matplotlib as mpl\n",
    "import matplotlib.pyplot as plt\n",
    "import seaborn as sns\n",
    "\n"
   ]
  },
  {
   "cell_type": "code",
   "execution_count": 3,
   "metadata": {
    "collapsed": true
   },
   "outputs": [],
   "source": [
    "\n",
    "#Load Data Sets\n",
    "titanic = sns.load_dataset(\"titanic\")\n",
    "tips = sns.load_dataset(\"tips\")\n",
    "iris = sns.load_dataset(\"iris\")"
   ]
  },
  {
   "cell_type": "code",
   "execution_count": 4,
   "metadata": {
    "collapsed": true
   },
   "outputs": [],
   "source": [
    "sns.set(style=\"whitegrid\", color_codes=True)\n",
    "\n",
    "np.random.seed(sum(map(ord, \"categorical\")))\n"
   ]
  },
  {
   "cell_type": "code",
   "execution_count": null,
   "metadata": {
    "collapsed": true
   },
   "outputs": [],
   "source": [
    "\n",
    "Seaborn is a library for making attractive and informative statistical graphics in Python. It is built on top of matplotlib and tightly integrated with the PyData stack, including support for numpy and pandas data structures and statistical routines from scipy and statsmodels.\n",
    "\\begin{figure}[h!]\n",
    "\\centering\n",
    "\\includegraphics[width=0.20\\linewidth]{seaborn1}\n",
    "\\includegraphics[width=0.20\\linewidth]{seaborn2}\n",
    "\\includegraphics[width=0.20\\linewidth]{seaborn3}\n",
    "\\includegraphics[width=0.20\\linewidth]{seaborn4}\n",
    "\\end{figure}\n",
    "\n",
    "Some of the features that seaborn offers are\n",
    "\n",
    "\\begin{itemize}\n",
    "\\item Several built-in themes that improve on the default matplotlib aesthetics\n",
    "\\item Tools for choosing color palettes to make beautiful plots that reveal patterns in your data\n",
    "\\item Functions for visualizing univariate and bivariate distributions or for comparing them between subsets of data\n",
    "\\item Tools that fit and visualize linear regression models for different kinds of independent and dependent variables\n",
    "\\item Functions that visualize matrices of data and use clustering algorithms to discover structure in those matrices\n",
    "\\item A function to plot statistical timeseries data with flexible estimation and representation of uncertainty around the estimate\n",
    "\\item High-level abstractions for structuring grids of plots that let you easily build complex visualizations\n",
    "\\end{itemize}\n",
    "\\newpage\n",
    "\\begin{itemize}\n",
    "\t\\item Seaborn aims to make visualization a central part of exploring and understanding data. The plotting functions operate on dataframes and arrays containing a whole dataset and internally perform the necessary aggregation and statistical model-fitting to produce informative plots. \n",
    "\t\n",
    "\\item Seaborn’s goals are similar to those of R’s ggplot, but it takes a different approach with an imperative and object-oriented style that tries to make it straightforward to construct sophisticated plots. If matplotlib \\textit{“tries to make easy things easy and hard things possible”}, seaborn aims to make a well-defined set of hard things easy too.\n",
    "\t\n",
    "\\item\tThe plotting functions try to do something useful when called with a minimal set of arguments, and they expose a number of customizable options through additional parameters. \n",
    "\n",
    "\\item Some of the functions plot directly into a matplotlib axes object, while others operate on an entire figure and produce plots with several panels. In the latter case, the plot is drawn using a Grid object that links the structure of the figure to the structure of the dataset in an abstract way.\n",
    "\t\n",
    "\\item \tBecause seaborn uses matplotlib, the graphics can be further tweaked using matplotlib tools and rendered with any of the matplotlib backends to generate publication-quality figures. Seaborn can also be used to target web-based graphics through the mpld3 and Bokeh libraries.\n",
    "\\end{itemize}"
   ]
  }
 ],
 "metadata": {
  "kernelspec": {
   "display_name": "Python 3",
   "language": "python",
   "name": "python3"
  },
  "language_info": {
   "codemirror_mode": {
    "name": "ipython",
    "version": 3
   },
   "file_extension": ".py",
   "mimetype": "text/x-python",
   "name": "python",
   "nbconvert_exporter": "python",
   "pygments_lexer": "ipython3",
   "version": "3.5.1"
  }
 },
 "nbformat": 4,
 "nbformat_minor": 2
}
