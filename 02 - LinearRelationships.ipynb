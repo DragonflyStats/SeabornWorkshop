{
 "cells": [
  {
   "cell_type": "markdown",
   "metadata": {},
   "source": [
    "Visualizing linear relationships with Seaborn\n",
    "=================================================\n",
    "\n",
    "Many datasets contain multiple quantitative variables, and the goal of an analysis is often to relate those variables to each other. \n",
    "* We previously discussed functions that can accomplish this by showing the joint distribution of two variables. It can be very helpful, though, to use statistical models to estimate a simple relationship between two noisy sets of observations. \n",
    "* The functions discussed in this chapter will do so through the common framework of linear regression.\n",
    "\n",
    "\n",
    "* In the spirit of Tukey, the regression plots in seaborn are primarily intended to add a visual guide that helps to emphasize patterns in a dataset during exploratory data analyses. \n",
    "* That is to say that seaborn is not itself a package for statistical analysis. To obtain quantitative measures related to the fit of regression models, you should use statsmodels. \n",
    "* The goal of seaborn, however, is to make exploring a dataset through visualization quick and easy, as doing so is just as (if not more) important than exploring a dataset through tables of statistics.\n"
   ]
  },
  {
   "cell_type": "code",
   "execution_count": null,
   "metadata": {
    "collapsed": true
   },
   "outputs": [],
   "source": [
    "%matplotlib inline\n",
    "import numpy as np\n",
    "import pandas as pd\n",
    "import matplotlib as mpl\n",
    "import matplotlib.pyplot as plt\n",
    "import seaborn as sns"
   ]
  },
  {
   "cell_type": "code",
   "execution_count": null,
   "metadata": {
    "collapsed": true
   },
   "outputs": [],
   "source": [
    "sns.set(color_codes=True)\n",
    "np.random.seed(sum(map(ord, \"regression\")))\n",
    "tips = sns.load_dataset(\"tips\")"
   ]
  },
  {
   "cell_type": "code",
   "execution_count": null,
   "metadata": {
    "collapsed": true
   },
   "outputs": [],
   "source": [
    "### Functions to draw linear regression models}\n",
    "\n",
    "Two main functions in seaborn are used to visualize a linear relationship as determined through regression. These functions, regplot() and lmplot() are closely related, and share much of their core functionality. It is important to understand the ways they differ, however, so that you can quickly choose the correct tool for particular job.\n",
    "\n",
    "In the simplest invocation, both functions draw a scatterplot of two variables, x and y, and then fit the regression model y ~ x and plot the resulting regression line and a 95\\% confidence interval for that regression:\n",
    "\n",
    "\n",
    "sns.regplot(x=\"total_bill\", y=\"tip\", data=tips);\n",
    "\n",
    "\n",
    "\\begin{figure}\n",
    "\t\\centering\n",
    "\t\\includegraphics[width=0.7\\linewidth]{images/regression_9_0}\n",
    "\\end{figure}\n",
    "\n",
    "=== %\n",
    "\n",
    "\t\n",
    "\t\n",
    "\n",
    "sns.lmplot(x=\"total_bill\", y=\"tip\", data=tips);\n",
    "\n",
    "\\begin{figure}\n",
    "\t\\centering\n",
    "\t\\includegraphics[width=0.7\\linewidth]{images/regression_10_0}\n",
    "\\end{figure}\n",
    "\n",
    "=== %\n",
    "\n",
    "\t\n",
    "\t\n",
    "You should note that the resulting plots are identical, except that the figure shapes are different. We will explain why this is shortly. For now, the other main difference to know about is that regplot() accepts the x and y variables in a variety of formats including simple numpy arrays, pandas Series objects, or as references to variables in a pandas DataFrame object passed to data. In contrast, \\texttt{lmplot()} has data as a required parameter and the x and y variables must be specified as strings. \n",
    "\n",
    "\n",
    "=== %\n",
    "\n",
    "\t\n",
    "\t\n",
    "\n",
    "* This data format is called “long-form” or “tidy” data. Other than this input flexibility, \\texttt{regplot()} possesses a subset of \\texttt{lmplot()}‘s features, so we will demonstrate them using the latter.\n",
    "\n",
    "* It’s possible to fit a linear regression when one of the variables takes discrete values, however, the simple scatterplot produced by this kind of dataset is often not optimal:\n",
    "\n",
    "\n",
    "=== %\n",
    "\n",
    "\n"
   ]
  },
  {
   "cell_type": "code",
   "execution_count": null,
   "metadata": {
    "collapsed": true
   },
   "outputs": [],
   "source": [
    "sns.lmplot(x=\"size\", y=\"tip\", data=tips);\n",
    "\n",
    "One option is to add some random noise (“jitter”) to the discrete values to make the distribution of those values more clear. Note that jitter is applied only to the scatterplot data and does not influence the regression line fit itself:\n"
   ]
  },
  {
   "cell_type": "code",
   "execution_count": null,
   "metadata": {
    "collapsed": true
   },
   "outputs": [],
   "source": [
    "sns.lmplot(x=\"size\", y=\"tip\", data=tips, x_jitter=.05);\n"
   ]
  },
  {
   "cell_type": "markdown",
   "metadata": {},
   "source": [
    "A second option is to collapse over the observations in each discrete bin to plot an estimate of central tendency along with a confidence interval:\n"
   ]
  },
  {
   "cell_type": "code",
   "execution_count": null,
   "metadata": {
    "collapsed": true
   },
   "outputs": [],
   "source": [
    "sns.lmplot(x=\"size\", y=\"tip\", data=tips, x_estimator=np.mean);\n"
   ]
  },
  {
   "cell_type": "markdown",
   "metadata": {},
   "source": [
    "* The simple linear regression model used above is very simple to fit but it is not appropriate for some kinds of datasets. \n",
    "* The Anscombe’s quartet dataset shows a few examples where simple linear regression provides an identical estimate of a relationship where simple visual inspection clearly shows differences. \n",
    "* For example, in the first case, the linear regression is a good model:\n"
   ]
  },
  {
   "cell_type": "code",
   "execution_count": null,
   "metadata": {
    "collapsed": true
   },
   "outputs": [],
   "source": [
    "anscombe = sns.load_dataset(\"anscombe\")\n",
    "sns.lmplot(x=\"x\", y=\"y\", data=anscombe.query(\"dataset == 'I'\"), ci=None, scatter_kws={\"s\": 80});\n"
   ]
  },
  {
   "cell_type": "code",
   "execution_count": null,
   "metadata": {
    "collapsed": true
   },
   "outputs": [],
   "source": [
    "The linear relationship in the second dataset is the same, but the plot clearly shows that this is not a good model:\n",
    "\n",
    "        sns.lmplot(x=\"x\", y=\"y\", \n",
    "\t\tdata=anscombe.query(\"dataset == 'II'\"),\n",
    "\t\tci=None, scatter_kws={\"s\": 80});\n",
    "\n",
    "\tIn the presence of these kind of higher-order relationships, \\texttt{lmplot()} and \\texttt{regplot()} can fit a polynomial regression model to explore simple kinds of nonlinear trends in the dataset:\n",
    "\t\n"
   ]
  },
  {
   "cell_type": "code",
   "execution_count": null,
   "metadata": {
    "collapsed": true
   },
   "outputs": [],
   "source": [
    "\n",
    "\n",
    "\n",
    "\n",
    "\t\\frametitle{Seaborn : Visualizing Linear Relationships}\n",
    "\t\n",
    "\t\\begin{framed}\n",
    "\t\t\n",
    "\t\tsns.lmplot(x=\"x\", y=\"y\", \n",
    "\t\tdata=anscombe.query(\"dataset == 'II'\"),\n",
    "\t\torder=2, ci=None, scatter_kws={\"s\": 80});\n",
    "\t\t\n",
    "\t\\end{framed}\n",
    "\t\\begin{figure}\n",
    "\t\t\\centering\n",
    "\t\t\\includegraphics[width=0.55\\linewidth]{images/regression_23_0}\n",
    "\t\t\n",
    "\t\\end{figure}\n",
    "\t\n",
    "\n",
    "\n",
    "\n",
    "\t\\frametitle{Seaborn : Visualizing Linear Relationships}\n",
    "\t\n",
    "\tA different problem is posed by “outlier” observations that deviate for some reason other than the main relationship under study:\n",
    "\t\\begin{framed}\n",
    "\t\t\n",
    "\t\tsns.lmplot(x=\"x\", y=\"y\", data=anscombe.query(\"dataset == 'III'\"),\n",
    "\t\tci=None, scatter_kws={\"s\": 80});\n",
    "\t\t\n",
    "\t\\end{framed}\n",
    "\t\\begin{figure}\n",
    "\t\t\\centering\n",
    "\t\t\\includegraphics[width=0.55\\linewidth]{images/regression_25_0}\n",
    "\t\\end{figure}\n",
    "\t\n",
    "\t\n",
    "\n",
    "\n",
    "\n",
    "\t\\frametitle{Seaborn : Visualizing Linear Relationships}\n",
    "\t\n",
    "\tIn the presence of outliers, it can be useful to fit a robust regression, which uses a different loss function to downweight relatively large residuals:\n",
    "\t\\begin{framed}\n",
    "\t\t\n",
    "\t\tsns.lmplot(x=\"x\", y=\"y\", data=anscombe.query(\"dataset == 'III'\"),\n",
    "\t\trobust=True, ci=None, scatter_kws={\"s\": 80});\n",
    "\t\t\n",
    "\t\\end{framed}\n",
    "\t\\begin{figure}\n",
    "\t\t\\centering\n",
    "\t\t\\includegraphics[width=0.55\\linewidth]{images/regression_27_0}\n",
    "\t\t\n",
    "\t\\end{figure}\n",
    "\n",
    "\n",
    "\n",
    "\t\\frametitle{Seaborn : Visualizing Linear Relationships}\n",
    "\tWhen the y variable is binary, simple linear regression also “works” but provides implausible predictions:\n",
    "\t\n",
    "\ttips[\"big_tip\"] = (tips.tip / tips.total_bill) > .15\n",
    "\tsns.lmplot(x=\"total_bill\", y=\"big_tip\", data=tips,\n",
    "\ty_jitter=.03);\n",
    "\t\n",
    "\t\\begin{figure}\n",
    "\t\t\\centering\n",
    "\t\t\\includegraphics[width=0.55\\linewidth]{images/regression_29_0}\n",
    "\t\\end{figure}\n",
    "\t\n",
    "\n",
    "\n",
    "\n",
    "\t\\frametitle{Seaborn : Visualizing Linear Relationships}\n",
    "\tThe solution in this case is to fit a logistic regression, such that the regression line shows the estimated probability of y = 1 for a given value of x:\n",
    "\t\n",
    "\tsns.lmplot(x=\"total_bill\", y=\"big_tip\", data=tips,\n",
    "\tlogistic=True, y_jitter=.03);\n",
    "\t\n",
    "\t\\begin{figure}\n",
    "\t\t\\centering\n",
    "\t\t\\includegraphics[width=0.55\\linewidth]{images/regression_31_0}\n",
    "\t\\end{figure}\n",
    "\n",
    "\n"
   ]
  },
  {
   "cell_type": "code",
   "execution_count": null,
   "metadata": {
    "collapsed": true
   },
   "outputs": [],
   "source": [
    "* Note that the logistic regression estimate is considerably more computationally intensive (this is true of robust regression as well) than simple regression, and as the confidence interval around the regression line is computed using a bootstrap procedure, you may wish to turn this off for faster iteration (using \\texttt{ci=False}).\n",
    "* An altogether different approach is to fit a nonparametric regression using a lowess smoother. This approach has the fewest assumptions, although it is computationally intensive and so currently confidence intervals are not computed at all:\n"
   ]
  },
  {
   "cell_type": "code",
   "execution_count": null,
   "metadata": {
    "collapsed": true
   },
   "outputs": [],
   "source": [
    "# Visualizing Linear Relationships}\n",
    "\n",
    "sns.lmplot(x=\"total_bill\", y=\"tip\", data=tips,lowess=True);\n",
    "\n",
    "\n",
    "\t\\frametitle{Seaborn : Visualizing Linear Relationships}\n",
    "\t\n",
    "\t\n",
    "\t\t* The \\texttt{residplot()} function can be a useful tool for checking whether the simple regression model is appropriate for a dataset. \n",
    "\t\t* It fits and removes a simple linear regression and then plots the residual values for each observation. \n",
    "\t\t* Ideally, these values should be randomly scattered around \\texttt{y = 0}:\n",
    "\t\t\n",
    "\t\n",
    "\t\n",
    "\n",
    "=====\n",
    "\n",
    "\t\\frametitle{Seaborn : Visualizing Linear Relationships}\n",
    "\t\n",
    "\t\n",
    "\tsns.residplot(x=\"x\", y=\"y\", data=anscombe.query(\"dataset == 'I'\"),\n",
    "\tscatter_kws={\"s\": 80});\n",
    "\t\n",
    "\t\n",
    "\t\\begin{figure}\n",
    "\t\t\\centering\n",
    "\t\t\\includegraphics[width=0.7\\linewidth]{images/regression_35_0}\n",
    "\t\\end{figure}\n",
    "\n",
    "=====\n",
    "\n",
    "\t\\frametitle{Seaborn : Visualizing Linear Relationships}\n",
    "\t\n",
    "\tIf there is structure in the residuals, it suggests that simple linear regression is not appropriate:\n",
    "\t\n",
    "\tsns.residplot(x=\"x\", y=\"y\", data=anscombe.query(\"dataset == 'II'\"),\n",
    "\tscatter_kws={\"s\": 80});\n",
    "\t\n",
    "\t\\begin{figure}\n",
    "\t\t\\centering\n",
    "\t\t\\includegraphics[width=0.7\\linewidth]{images/regression_37_0}\n",
    "\t\\end{figure}\n",
    "\t\n",
    "\n",
    "\n"
   ]
  },
  {
   "cell_type": "code",
   "execution_count": null,
   "metadata": {
    "collapsed": true
   },
   "outputs": [],
   "source": [
    "#### Conditioning on other variables\n",
    "\n",
    "* The plots above show many ways to explore the relationship between a pair of variables.\n",
    "* Often, however, a more interesting question is “how does the relationship between these two variables change as a function of a third variable?” \n",
    "* This is where the difference between \\texttt{regplot()} and \\texttt{lmplot()} appears. \n",
    "* While \\texttt{regplot()} always shows a single relationsihp, \\texttt{lmplot()} combines \\texttt{regplot()} with FacetGrid to provide an easy interface to show a linear regression on “faceted” plots that allow you to explore interactions with up to three additional categorical variables.\n",
    "\n",
    "The best way to separate out a relationship is to plot both levels on the same axes and to use color to distinguish them:\n"
   ]
  },
  {
   "cell_type": "code",
   "execution_count": null,
   "metadata": {
    "collapsed": true
   },
   "outputs": [],
   "source": [
    "sns.lmplot(x=\"total_bill\", y=\"tip\", hue=\"smoker\", data=tips);\n",
    "\t\n",
    "\t\n",
    "\t\\begin{figure}\n",
    "\t\t\\centering\n",
    "\t\t\\includegraphics[width=0.55\\linewidth]{images/regression_39_0}\n",
    "\t\\end{figure}\n",
    "\n",
    "====\n",
    "\n",
    "\t\n",
    "\t\n",
    "\t\n",
    "\tIn addition to color, it’s possible to use different scatterplot markers to make plots the reproduce to black and white better. You also have full control over the colors used:\n",
    "\t"
   ]
  },
  {
   "cell_type": "code",
   "execution_count": null,
   "metadata": {
    "collapsed": true
   },
   "outputs": [],
   "source": [
    "\tsns.lmplot(x=\"total_bill\", y=\"tip\", hue=\"smoker\", data=tips,\n",
    "\tmarkers=[\"o\", \"x\"], palette=\"Set1\");\n",
    "\t\n",
    "\t\\begin{figure}\n",
    "\t\t\\centering\n",
    "\t\t\\includegraphics[width=0.7\\linewidth]{images/regression_41_0}\n",
    "\t\\end{figure}\n",
    "\n",
    "====="
   ]
  },
  {
   "cell_type": "code",
   "execution_count": null,
   "metadata": {
    "collapsed": true
   },
   "outputs": [],
   "source": [
    "\t\n",
    "\tTo add another variable, you can draw multiple “facets” which each level of the variable appearing in the rows or columns of the grid:\n",
    "\t\n",
    "\tsns.lmplot(x=\"total_bill\", y=\"tip\", \n",
    "\thue=\"smoker\", col=\"time\", \n",
    "\tdata=tips);\n",
    "\t\n"
   ]
  },
  {
   "cell_type": "code",
   "execution_count": null,
   "metadata": {
    "collapsed": true
   },
   "outputs": [],
   "source": [
    "sns.lmplot(x=\"total_bill\", y=\"tip\", hue=\"smoker\", col=\"time\", row=\"sex\", data=tips);\n"
   ]
  },
  {
   "cell_type": "code",
   "execution_count": null,
   "metadata": {
    "collapsed": true
   },
   "outputs": [],
   "source": [
    "#### Controlling the size and shape of the plot}\n",
    "\n",
    "* Before we noted that the default plots made by `regplot()`` and \\texttt{lmplot()} look the same but on axes that have a different size and shape. This is because func:regplot is an “axes-level” function draws onto a specific axes.\n",
    "* This means that you can make mutli-panel figures yourself and control exactly where the the regression plot goes. \n",
    "* If no axes is provided, it simply uses the “***currently active***” axes, which is why the default plot has the same size and shape as most other matplotlib functions. To control the size, you need to create a figure object yourself.\n"
   ]
  },
  {
   "cell_type": "code",
   "execution_count": null,
   "metadata": {
    "collapsed": true
   },
   "outputs": [],
   "source": [
    "f, ax = plt.subplots(figsize=(5, 6))\n",
    "\t\tsns.regplot(x=\"total_bill\", y=\"tip\", \n",
    "\t\tdata=tips, ax=ax);"
   ]
  },
  {
   "cell_type": "code",
   "execution_count": null,
   "metadata": {
    "collapsed": true
   },
   "outputs": [],
   "source": [
    "In contrast, the size and shape of the \\texttt{lmplot()} figure is controlled through the \\texttt{FacetGrid} interface using the size and aspect parameters, which apply to each facet in the plot, not to the overall figure itself:\n",
    "\n",
    "    sns.lmplot(x=\"total_bill\", y=\"tip\", col=\"day\", data=tips,\n",
    "\tcol_wrap=2, size=3);\n",
    "\t\n",
    "\t\n",
    "\t\\begin{figure}\n",
    "\t\t\\centering\n",
    "\t\t\\includegraphics[width=0.55\\linewidth]{images/regression_48_0}\n",
    "\t\\end{figure}\n",
    "\n",
    "===="
   ]
  },
  {
   "cell_type": "code",
   "execution_count": null,
   "metadata": {
    "collapsed": true
   },
   "outputs": [],
   "source": [
    "\n",
    "\n",
    "\t\n",
    "\t\n",
    "\t\n",
    "\tsns.lmplot(x=\"total_bill\", y=\"tip\", col=\"day\", data=tips,\n",
    "\taspect=.5);\n",
    "\t\n",
    "\t\n",
    "\t\\begin{figure}\n",
    "\t\t\\centering\n",
    "\t\t\\includegraphics[width=0.7\\linewidth]{images/regression_49_0}\n",
    "\t\\end{figure}\n",
    "\t=====\n",
    "\n",
    "\n",
    "\n"
   ]
  },
  {
   "cell_type": "code",
   "execution_count": null,
   "metadata": {
    "collapsed": true
   },
   "outputs": [],
   "source": [
    "\\textbf{Plotting a regression in other contexts}\n",
    "\t\n",
    "\t\t* A few other seaborn functions use \\texttt{regplot()} in the context of a larger, more complex plot. \n",
    "\t\t* The first is the \\texttt{jointplot()} function that we introduced in the distributions tutorial.\n",
    "\t\t* In addition to the plot styles previously discussed, \\texttt{jointplot()} can use \\texttt{regplot()} to show the linear regression fit on the joint axes by passing \\texttt{kind=\"reg\"}:\n",
    "\t\n",
    "\n",
    "\tsns.jointplot(x=\"total_bill\", y=\"tip\", \n",
    "\tdata=tips, kind=\"reg\");\n",
    "\n",
    "\n",
    "\t\n"
   ]
  },
  {
   "cell_type": "code",
   "execution_count": null,
   "metadata": {
    "collapsed": true
   },
   "outputs": [],
   "source": [
    "* Using the `pairplot()` function with `kind=\"reg\"` combines `regplot()` and \n",
    "`PairGrid` to show the linear relationship between variables in a dataset.\n",
    "* Take care to note how this is different from `lmplot()`. \n",
    "* In the figure below, the two axes don’t show the same relationship conditioned on two levels of a third variable; rather, * \\texttt{PairGrid()} is used to show multiple relationships between different pairings of the variables in a dataset:\n",
    "\n"
   ]
  },
  {
   "cell_type": "code",
   "execution_count": null,
   "metadata": {
    "collapsed": true
   },
   "outputs": [],
   "source": [
    "sns.pairplot(tips, x_vars=[\"total_bill\", \"size\"], y_vars=[\"tip\"], size=5, aspect=.8, kind=\"reg\");\n"
   ]
  },
  {
   "cell_type": "code",
   "execution_count": null,
   "metadata": {
    "collapsed": true
   },
   "outputs": [],
   "source": [
    "Like `lmplot()`, but unlike `jointplot()`, conditioning on an additional categorical variable is built into \\texttt{pairplot()} using the hue parameter:\n"
   ]
  },
  {
   "cell_type": "code",
   "execution_count": null,
   "metadata": {
    "collapsed": true
   },
   "outputs": [],
   "source": [
    "sns.pairplot(tips, x_vars=[\"total_bill\", \"size\"], y_vars=[\"tip\"], hue=\"smoker\", size=5, aspect=.8, kind=\"reg\");\n",
    "\n"
   ]
  }
 ],
 "metadata": {
  "kernelspec": {
   "display_name": "Python 3",
   "language": "python",
   "name": "python3"
  },
  "language_info": {
   "codemirror_mode": {
    "name": "ipython",
    "version": 3
   },
   "file_extension": ".py",
   "mimetype": "text/x-python",
   "name": "python",
   "nbconvert_exporter": "python",
   "pygments_lexer": "ipython3",
   "version": "3.5.1"
  }
 },
 "nbformat": 4,
 "nbformat_minor": 2
}
